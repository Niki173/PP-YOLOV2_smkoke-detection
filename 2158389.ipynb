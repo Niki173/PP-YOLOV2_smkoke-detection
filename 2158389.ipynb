{
 "cells": [
  {
   "cell_type": "markdown",
   "metadata": {
    "collapsed": false
   },
   "source": [
    "# **[PP-YOLOV2保姆级教程]使用自定义数据集实现吸烟识别预测**\n",
    "\n",
    "## **PP-YOLOV2介绍**\n",
    "\n",
    "通过结合多项有效的改进，在COCO2017上将PP-YOLO的性能从45.9％mAP提升到49.5％mAP。称之为PP-YOLOv2。\n",
    "\n",
    "在速度方面，PP-YOLOv2在640x640输入尺寸下以68.9FPS的速度运行。具有TensorRT，FP16精度和Batch=1的Paddle推理引擎进一步提高了PP-YOLOv2的推理速度，达到了106.5 FPS。这样的性能超过了具有大致相同数量的参数（即YOLOv4-CSP，YOLOv5l）的现有目标检测器。此外，带有ResNet101的PP-YOLOv2在COCO2017测试开发上达到了50.3％的mAP。\n",
    "\n",
    "![](https://ai-studio-static-online.cdn.bcebos.com/9b582f8b16254aa285e03800894fa7f8142620dc61e241838a2ddae7d08ad58c)\n",
    "\n",
    "\n",
    "## **手把手教你在AIStudio平台上使用PaddleDetection API训练自己的数据集**\n",
    "**教程目的：** 通过PaddleDetection API熟悉经典的目标检测框架，为下一步自己手写实现目标检测网络打基础\n",
    "\n",
    "**教程内容：** 以PaddleDetection API中的特色模型为例，介绍网络结构，以及如何使用此框架训练自己的数据集\n",
    "\n",
    "**数据准备：** 本教程程基于pp_fall数据集，为方便读者体验，已经上传至 data/data94796/pp_smoke.zip。\n",
    "\n",
    "**PaddelDetection：** 为方便读者体验，存放在PaddleDetection，使用PP-YOLOV2。\n",
    "\n",
    "**其他说明：** 本教程所有命令均在Notebook中执行。\n",
    "\n",
    "\n",
    "## **检测效果**\n",
    "\n",
    "![](https://ai-studio-static-online.cdn.bcebos.com/802e7adbff0c4ddb885711c42ef2cf9fb61d53ed247b423891e7bd4cfb753f55)\n"
   ]
  },
  {
   "cell_type": "markdown",
   "metadata": {
    "collapsed": false
   },
   "source": [
    "## **做这个项目的缘由：**\n",
    "看了许多PP-YOLOV2相关的项目，发现许多用来制作数据集都是COCO格式，这对于我这种习惯用VOC格式的人来说，就相对有点别扭，因此想自己弄一个VOC数据集格式的PP-YOLOV2，顺便熟悉一下PP-YOLOV2。\n"
   ]
  },
  {
   "cell_type": "markdown",
   "metadata": {
    "collapsed": false
   },
   "source": [
    "# **实验步骤：**"
   ]
  },
  {
   "cell_type": "markdown",
   "metadata": {
    "collapsed": false
   },
   "source": [
    "## **一、解压数据集**"
   ]
  },
  {
   "cell_type": "code",
   "execution_count": null,
   "metadata": {
    "collapsed": false
   },
   "outputs": [],
   "source": [
    "!unzip data/data94796/pp_smoke.zip"
   ]
  },
  {
   "cell_type": "markdown",
   "metadata": {
    "collapsed": false
   },
   "source": [
    "## **二、安装PaddleDetection包**\n",
    "\n",
    "最新的PaddleDetection包我已经放在了/home/aistudio/data/data98540/PaddleDetection-release-2.1.zip，解压后，安装相关的模块即可"
   ]
  },
  {
   "cell_type": "code",
   "execution_count": null,
   "metadata": {
    "collapsed": false
   },
   "outputs": [],
   "source": [
    "!unzip -oq /home/aistudio/data/data98540/PaddleDetection-release-2.1.zip"
   ]
  },
  {
   "cell_type": "code",
   "execution_count": 1,
   "metadata": {
    "collapsed": false
   },
   "outputs": [],
   "source": [
    "!pip install -r /home/aistudio/PaddleDetection-release-2.1/requirements.txt"
   ]
  },
  {
   "cell_type": "markdown",
   "metadata": {
    "collapsed": false
   },
   "source": [
    "## **三、按比例划分数据集**\n",
    "**ratio比例系数**"
   ]
  },
  {
   "cell_type": "code",
   "execution_count": null,
   "metadata": {
    "collapsed": false
   },
   "outputs": [],
   "source": [
    "import random\r\n",
    "import os\r\n",
    "#生成train.txt和val.txt\r\n",
    "random.seed(2020)\r\n",
    "xml_dir  = '/home/aistudio/Annotations'#标签文件地址\r\n",
    "img_dir = '/home/aistudio/images'#图像文件地址\r\n",
    "path_list = list()\r\n",
    "for img in os.listdir(img_dir):\r\n",
    "    img_path = os.path.join(img_dir,img)\r\n",
    "    xml_path = os.path.join(xml_dir,img.replace('jpg', 'xml'))\r\n",
    "    path_list.append((img_path, xml_path))\r\n",
    "random.shuffle(path_list)\r\n",
    "ratio = 0.9\r\n",
    "train_f = open('/home/aistudio/work/train.txt','w') #生成训练文件\r\n",
    "val_f = open('/home/aistudio/work/val.txt' ,'w')#生成验证文件\r\n",
    "\r\n",
    "for i ,content in enumerate(path_list):\r\n",
    "    img, xml = content\r\n",
    "    text = img + ' ' + xml + '\\n'\r\n",
    "    if i < len(path_list) * ratio:\r\n",
    "        train_f.write(text)\r\n",
    "    else:\r\n",
    "        val_f.write(text)\r\n",
    "train_f.close()\r\n",
    "val_f.close()\r\n",
    "\r\n",
    "#生成标签文档\r\n",
    "label = ['smoke']#设置你想检测的类别\r\n",
    "with open('/home/aistudio/work/label_list.txt', 'w') as f:\r\n",
    "    for text in label:\r\n",
    "        f.write(text+'\\n')"
   ]
  },
  {
   "cell_type": "markdown",
   "metadata": {
    "collapsed": false
   },
   "source": [
    "## **注意：**\n",
    "后面跑训练的时候，提示了这个错误，查明原因发现是有一张照片有问题，于是就删除掉，后面跑就成功了。要删除smoke_a187.jpg照片以及其对应的标注文件"
   ]
  },
  {
   "cell_type": "code",
   "execution_count": null,
   "metadata": {
    "collapsed": false
   },
   "outputs": [
    {
     "name": "stdout",
     "output_type": "stream",
     "text": [
      "/home/aistudio\n",
      "成功删除文件: Annotations/smoke_a187.xml\n"
     ]
    }
   ],
   "source": [
    "%cd ~\r\n",
    "import os\r\n",
    "file_name = \"Annotations/smoke_a187.xml\"#/images//smoke_a187.jpg  /Annotations//smoke_a187.xml\r\n",
    "if os.path.exists(file_name):\r\n",
    "    os.remove(file_name)\r\n",
    "    print('成功删除文件:', file_name)\r\n",
    "else:\r\n",
    "    print('未找到此文件:', file_name)"
   ]
  },
  {
   "cell_type": "markdown",
   "metadata": {
    "collapsed": false
   },
   "source": [
    "## **四、执行训练**\n",
    "\n",
    "此次使用的是 PaddleDetection-release-2.1/configs/ppyolo/ppyolov2_r50vd_dcn_voc.yml 文件，并开启vdl"
   ]
  },
  {
   "cell_type": "markdown",
   "metadata": {
    "collapsed": false
   },
   "source": [
    "## **修改部分：**\n",
    "\n",
    "只需要修改对应的红色部分\n",
    "\n",
    "PaddleDetection-release-2.1/configs/datasets/voc.yml\n",
    "\n",
    "\n",
    "![](https://ai-studio-static-online.cdn.bcebos.com/e5fa5314d7d64eb49b3c0c5979c07cfb808bd150c3a14c7c9e8f6d39fb193d21)\n",
    "\n",
    "如果爆内存就修改这两个文件的batch_size：\n",
    "\n",
    "PaddleDetection-release-2.1/configs/ppyolo/_base_/ppyolov2_reader.yml\n",
    "\n",
    "PaddleDetection-release-2.1/configs/ppyolo/ppyolov2_r50vd_dcn_voc.yml\n"
   ]
  },
  {
   "cell_type": "code",
   "execution_count": 6,
   "metadata": {
    "collapsed": false
   },
   "outputs": [],
   "source": [
    "%cd ~/PaddleDetection-release-2.1/\r\n",
    "!python tools/train.py -c configs/ppyolo/ppyolov2_r50vd_dcn_voc.yml --eval --use_vdl=True --vdl_log_dir=\"./output\""
   ]
  },
  {
   "cell_type": "markdown",
   "metadata": {
    "collapsed": false
   },
   "source": [
    "![](https://ai-studio-static-online.cdn.bcebos.com/58996194619f478c80f458c10acb9e8c83f8e2d0013f450c9f1ff97f3d4058d5)\n"
   ]
  },
  {
   "cell_type": "markdown",
   "metadata": {
    "collapsed": false
   },
   "source": [
    "## **五、模型评估**"
   ]
  },
  {
   "cell_type": "code",
   "execution_count": 7,
   "metadata": {
    "collapsed": false
   },
   "outputs": [],
   "source": [
    "!python -u tools/eval.py -c configs/ppyolo/ppyolov2_r50vd_dcn_voc.yml  -o weights=output/ppyolov2_r50vd_dcn_voc/best_model.pdparams"
   ]
  },
  {
   "cell_type": "markdown",
   "metadata": {
    "collapsed": false
   },
   "source": [
    "![](https://ai-studio-static-online.cdn.bcebos.com/02de61111cf24ccaac768ff72403a4136b53bed98ed94f6496ebf67b03047f22)\n"
   ]
  },
  {
   "cell_type": "markdown",
   "metadata": {
    "collapsed": false
   },
   "source": [
    "## **打开可视化**\n",
    "\n",
    "步骤：\n",
    "\n",
    "打开左侧可视化\n",
    "\n",
    "![](https://ai-studio-static-online.cdn.bcebos.com/cbf8b5d4fb464ae1a2d773f5e36b00dcb134556b27b24a5ba5fe962331cb36d8)\n",
    "\n",
    "设置logdir ： 路径选择PaddleDetection-release-2.1/output\n",
    "\n",
    "选择模型文件：路径选择PaddleDetection-release-2.1/output/ppyolov2_r50vd_dcn_voc/best_model.pdparams\n",
    "\n",
    "然后按下面的打开VisualDL\n",
    "\n",
    "即可看到如图\n",
    "\n",
    "![](https://ai-studio-static-online.cdn.bcebos.com/40d84bb78ff64f968f0f63e6392050c68b5a68421ebf4275a7292a78a9434aa2)\n",
    "\n",
    "这是我训练了100epochs的结果，如果接下去训练mAP应该会更高。\n",
    "\n",
    "还有下图的参数记录\n",
    "\n",
    "![](https://ai-studio-static-online.cdn.bcebos.com/64beb062f138470a890d3de1774113aaac1b216184354cd889e079f7699e12c8)\n",
    "\n",
    "\n"
   ]
  },
  {
   "cell_type": "markdown",
   "metadata": {
    "collapsed": false
   },
   "source": [
    "## **六、模型预测**\n",
    "在执行tools/infer.py后，在output文件夹下会生成对应的预测结果"
   ]
  },
  {
   "cell_type": "code",
   "execution_count": 7,
   "metadata": {
    "collapsed": false
   },
   "outputs": [
    {
     "name": "stdout",
     "output_type": "stream",
     "text": [
      "/home/aistudio/PaddleDetection-release-2.1\n",
      "/opt/conda/envs/python35-paddle120-env/lib/python3.7/site-packages/matplotlib/__init__.py:107: DeprecationWarning: Using or importing the ABCs from 'collections' instead of from 'collections.abc' is deprecated, and in 3.8 it will stop working\n",
      "  from collections import MutableMapping\n",
      "/opt/conda/envs/python35-paddle120-env/lib/python3.7/site-packages/matplotlib/rcsetup.py:20: DeprecationWarning: Using or importing the ABCs from 'collections' instead of from 'collections.abc' is deprecated, and in 3.8 it will stop working\n",
      "  from collections import Iterable, Mapping\n",
      "/opt/conda/envs/python35-paddle120-env/lib/python3.7/site-packages/matplotlib/colors.py:53: DeprecationWarning: Using or importing the ABCs from 'collections' instead of from 'collections.abc' is deprecated, and in 3.8 it will stop working\n",
      "  from collections import Sized\n",
      "/opt/conda/envs/python35-paddle120-env/lib/python3.7/site-packages/paddle/tensor/creation.py:125: DeprecationWarning: `np.object` is a deprecated alias for the builtin `object`. To silence this warning, use `object` by itself. Doing this will not modify any behavior and is safe. \n",
      "Deprecated in NumPy 1.20; for more details and guidance: https://numpy.org/devdocs/release/1.20.0-notes.html#deprecations\n",
      "  if data.dtype == np.object:\n",
      "W0707 10:35:11.390235  1627 device_context.cc:404] Please NOTE: device: 0, GPU Compute Capability: 7.0, Driver API Version: 10.1, Runtime API Version: 10.1\n",
      "W0707 10:35:11.394752  1627 device_context.cc:422] device: 0, cuDNN Version: 7.6.\n",
      "[07/07 10:35:16] ppdet.utils.checkpoint INFO: Finish loading model weights: output/ppyolov2_r50vd_dcn_voc/best_model.pdparams\n",
      "[07/07 10:35:17] ppdet.engine INFO: Detection bbox results save in output/smoke1.png\n"
     ]
    }
   ],
   "source": [
    "%cd ~/PaddleDetection-release-2.1/\r\n",
    "!python tools/infer.py -c configs/ppyolo/ppyolov2_r50vd_dcn_voc.yml -o weights=output/ppyolov2_r50vd_dcn_voc/best_model.pdparams --infer_img=/home/aistudio/smoke1.png"
   ]
  },
  {
   "cell_type": "markdown",
   "metadata": {
    "collapsed": false
   },
   "source": [
    "## **结果展示**\n",
    "\n",
    "\n",
    "**原图**\n",
    "\n",
    "![](https://ai-studio-static-online.cdn.bcebos.com/41ff1e9c3bad4c7c840bd0c9c89898cf5db63094f5754a5281ca403e7652fa49)\n",
    "\n",
    "\n",
    "\n",
    "\n",
    "**预测图**\n",
    "\n",
    "![](https://ai-studio-static-online.cdn.bcebos.com/282ee4e0896c42d5a29b047a31327598d648c9076f7d42389772ed09e7e58bf7)\n",
    "\n",
    "\n"
   ]
  },
  {
   "cell_type": "markdown",
   "metadata": {
    "collapsed": false
   },
   "source": [
    "# **总结**\n",
    "\n",
    "由上图我们可以看到，使用PP-YOLOV2完成了吸烟的目标识别检测，并且mAP已经达到了86.74%。\n",
    "\n",
    "优化方案\n",
    "\n",
    "可以通过增加数据集、选择更优化模型，增加训练的次数。\n",
    "\n",
    "后期应用\n",
    "\n",
    "后期可以部署到商场、医院、疗养院等公共场合，进行禁烟管控。\n",
    "\n",
    "![](https://ai-studio-static-online.cdn.bcebos.com/e8836f09b4654eaba7ef4e941cb8573c9b64d3b4d20c405680273a1f3fad9ac7)\n"
   ]
  },
  {
   "cell_type": "markdown",
   "metadata": {
    "collapsed": false
   },
   "source": [
    "# **关于更多关于PaddleDetection的信息请参考下面的链接地址。**\n",
    "\n",
    "PaddleDetection教程文档地址：https://github.com/PaddlePaddle/PaddleDetection\n",
    "\n",
    "PaddleDetection Github地址：https://github.com/PaddlePaddle/PaddleDetection\n"
   ]
  },
  {
   "cell_type": "markdown",
   "metadata": {
    "collapsed": false
   },
   "source": [
    "# **关于作者**\n",
    "\n",
    "感兴趣的方向为：目标检测，分类任务等\n",
    "\n",
    "AIstudio主页： 来互关呀~ 我在AI Studio上获得黄金等级，点亮8个徽章，来互关呀~ https://aistudio.baidu.com/aistudio/personalcenter/thirdview/474269\n",
    "\n",
    "Github主页： https://github.com/Niki173\n",
    "\n",
    "欢迎大家有问题留言交流学习，共同进步成长。"
   ]
  }
 ],
 "metadata": {
  "kernelspec": {
   "display_name": "PaddlePaddle 2.1.0 (Python 3.5)",
   "language": "python",
   "name": "py35-paddle1.2.0"
  },
  "language_info": {
   "codemirror_mode": {
    "name": "ipython",
    "version": 3
   },
   "file_extension": ".py",
   "mimetype": "text/x-python",
   "name": "python",
   "nbconvert_exporter": "python",
   "pygments_lexer": "ipython3",
   "version": "3.7.4"
  }
 },
 "nbformat": 4,
 "nbformat_minor": 1
}
